{
 "cells": [
  {
   "cell_type": "code",
   "execution_count": null,
   "metadata": {},
   "outputs": [],
   "source": [
    "    #ASSIGNMENT-3"
   ]
  },
  {
   "cell_type": "code",
   "execution_count": 1,
   "metadata": {},
   "outputs": [
    {
     "name": "stdout",
     "output_type": "stream",
     "text": [
      "enter first length5\n",
      "enter second length6\n",
      "enter third length7\n",
      "14.696938456699069\n"
     ]
    }
   ],
   "source": [
    "#1\n",
    "l1=int(input(\"enter first length\"))\n",
    "l2=int(input(\"enter second length\"))\n",
    "l3=int(input(\"enter third length\"))\n",
    "s=(l1+l2+l3)/2\n",
    "a=(s*(s-l1)*(s-l2)*(s-l3))**0.5\n",
    "print(a)"
   ]
  },
  {
   "cell_type": "code",
   "execution_count": 2,
   "metadata": {},
   "outputs": [
    {
     "name": "stdout",
     "output_type": "stream",
     "text": [
      "enter string65\n",
      "not a palindrome\n"
     ]
    }
   ],
   "source": [
    "#2\n",
    "string=input(\"enter string\")\n",
    "if (string==string[::-1]) :\n",
    "  print(\"given string is palindrome\")\n",
    "else :\n",
    "  print(\"not a palindrome\")\n",
    "\n"
   ]
  },
  {
   "cell_type": "code",
   "execution_count": 3,
   "metadata": {},
   "outputs": [
    {
     "name": "stdout",
     "output_type": "stream",
     "text": [
      "enter year:2001\n",
      "2001 is not a leap year\n"
     ]
    }
   ],
   "source": [
    "#3\n",
    "year=int(input(\"enter year:\"))\n",
    "if (year%4==0) :\n",
    "  print (\"{} is a leap year\".format(year))\n",
    "else :\n",
    "  print(\"{} is not a leap year\".format(year))"
   ]
  },
  {
   "cell_type": "code",
   "execution_count": 4,
   "metadata": {},
   "outputs": [
    {
     "name": "stdout",
     "output_type": "stream",
     "text": [
      "enter the stringhello\n",
      "hello\n",
      "hello\n"
     ]
    }
   ],
   "source": [
    "#4\n",
    "string1=input(\"enter the string\")\n",
    "print(string1)\n",
    "string2=string1.replace(' ','-')\n",
    "print(string2)"
   ]
  },
  {
   "cell_type": "code",
   "execution_count": 5,
   "metadata": {},
   "outputs": [
    {
     "name": "stdout",
     "output_type": "stream",
     "text": [
      "enter the names of colours :pink\n",
      "sorted data pink\n"
     ]
    }
   ],
   "source": [
    "#5\n",
    "colours=input(\"enter the names of colours :\").split(',')\n",
    "items=[x for x in colours]\n",
    "items.sort()\n",
    "print(\"sorted data\" ,','.join(items))"
   ]
  },
  {
   "cell_type": "code",
   "execution_count": 6,
   "metadata": {},
   "outputs": [
    {
     "name": "stdout",
     "output_type": "stream",
     "text": [
      "enter salary100\n",
      "no tax\n"
     ]
    }
   ],
   "source": [
    "#6\n",
    "s=int(input(\"enter salary\"))\n",
    "if s<=250000 :\n",
    "  print(\"no tax\")\n",
    "elif s>250000 and s<=500000 :\n",
    "  tax=s*(5/100)\n",
    "  print(\"the tax is\",tax)\n",
    "elif s>500000 and s<=750000 :\n",
    "  tax=s*(10/100)\n",
    "  print(\"the tax is\",tax)\n",
    "elif s>750000 and s<=1000000 :\n",
    "  tax=s*(15/100)\n",
    "  print(\"the tax is\",tax)\n",
    "elif s>1000000 and s<=1250000 :\n",
    "  tax=s*(20/100)\n",
    "  print(\"the tax is\",tax)\n",
    "elif s>1250000 and s<=1500000 :\n",
    "  tax=s*(25/100)\n",
    "  print(\"the tax is\",tax)\n",
    "elif s>1500000 :\n",
    "  tax=s*(30/100)\n",
    "  print(\"the tax is\",tax)"
   ]
  },
  {
   "cell_type": "code",
   "execution_count": 7,
   "metadata": {},
   "outputs": [
    {
     "name": "stdout",
     "output_type": "stream",
     "text": [
      "113350"
     ]
    }
   ],
   "source": [
    "#7\n",
    "list = [11,33,50]\n",
    "for i in list :\n",
    "  print(i,end=\"\")"
   ]
  },
  {
   "cell_type": "code",
   "execution_count": 8,
   "metadata": {},
   "outputs": [
    {
     "name": "stdout",
     "output_type": "stream",
     "text": [
      "enter no of days:34\n",
      "enter hours :3\n",
      "enter minutes :4\n",
      "enter seconds:2\n",
      "2948740\n"
     ]
    }
   ],
   "source": [
    "#8\n",
    "days=int(input(\"enter no of days:\"))\n",
    "hours=int(input(\"enter hours :\"))\n",
    "mins=int(input(\"enter minutes :\"))\n",
    "secs=int(input(\"enter seconds:\"))\n",
    "total=days*24*60*60+hours*60*60+mins*60+s\n",
    "print(total)"
   ]
  },
  {
   "cell_type": "code",
   "execution_count": 10,
   "metadata": {},
   "outputs": [
    {
     "name": "stdout",
     "output_type": "stream",
     "text": [
      "enter first integer4\n",
      "enter second integer56\n",
      "enter third integer6\n",
      "56 4 6\n"
     ]
    }
   ],
   "source": [
    "#9\n",
    "a=int(input(\"enter first integer\"))\n",
    "b=int(input(\"enter second integer\"))\n",
    "c=int(input(\"enter third integer\"))\n",
    "ma=max(a,b,c)\n",
    "mi=min(a,b,c)\n",
    "v=a+b+c-ma-mi\n",
    "print(ma,mi,v)\n"
   ]
  },
  {
   "cell_type": "code",
   "execution_count": 11,
   "metadata": {},
   "outputs": [
    {
     "name": "stdout",
     "output_type": "stream",
     "text": [
      "product is 121111200\n"
     ]
    }
   ],
   "source": [
    "#10\n",
    "list=[45,3,2,89,72,1,10,7]\n",
    "product=1\n",
    "for i in list :\n",
    "  product*=i\n",
    "print(f\"product is {product}\")\n"
   ]
  },
  {
   "cell_type": "code",
   "execution_count": 12,
   "metadata": {},
   "outputs": [
    {
     "name": "stdout",
     "output_type": "stream",
     "text": [
      "[11, 14, 42, 123, 90]\n"
     ]
    }
   ],
   "source": [
    "#12\n",
    "num_list=[5,6,8,34,89,1]\n",
    "y=[]\n",
    "x=0\n",
    "for i in num_list :\n",
    "  x+=1\n",
    "  if x<len(num_list) :\n",
    "    y.append(i+num_list[x])\n",
    "print(y)"
   ]
  },
  {
   "cell_type": "code",
   "execution_count": 13,
   "metadata": {},
   "outputs": [
    {
     "name": "stdout",
     "output_type": "stream",
     "text": [
      "[5, 30, 240, 720, 6480, 6480]\n"
     ]
    }
   ],
   "source": [
    "#13\n",
    "num_tuple=(5,6,8,3,9,1)\n",
    "product=1\n",
    "list=[]\n",
    "for i in num_tuple :\n",
    "  product=product*i\n",
    "  list.append(product)\n",
    "print(list)"
   ]
  },
  {
   "cell_type": "code",
   "execution_count": 14,
   "metadata": {},
   "outputs": [
    {
     "name": "stdout",
     "output_type": "stream",
     "text": [
      "enter a number:4\n",
      "[4]\n"
     ]
    }
   ],
   "source": [
    "#14\n",
    "n=int(input(\"enter a number:\"))\n",
    "list=[]\n",
    "for i in str(n) :\n",
    "  list.append(int(i))\n",
    "print(list)"
   ]
  },
  {
   "cell_type": "code",
   "execution_count": 15,
   "metadata": {},
   "outputs": [
    {
     "name": "stdout",
     "output_type": "stream",
     "text": [
      "enter binary num of length of 105\n",
      "enter binary num of length of 566\n",
      "0\n"
     ]
    }
   ],
   "source": [
    "#15\n",
    "x=input(\"enter binary num of length of 10\")\n",
    "y= input(\"enter binary num of length of 5\")\n",
    "if y[:] in x[:] :\n",
    "  print (1)\n",
    "else :\n",
    "  print(0)"
   ]
  },
  {
   "cell_type": "code",
   "execution_count": null,
   "metadata": {},
   "outputs": [],
   "source": []
  }
 ],
 "metadata": {
  "kernelspec": {
   "display_name": "Python 3",
   "language": "python",
   "name": "python3"
  },
  "language_info": {
   "codemirror_mode": {
    "name": "ipython",
    "version": 3
   },
   "file_extension": ".py",
   "mimetype": "text/x-python",
   "name": "python",
   "nbconvert_exporter": "python",
   "pygments_lexer": "ipython3",
   "version": "3.7.6"
  }
 },
 "nbformat": 4,
 "nbformat_minor": 4
}
